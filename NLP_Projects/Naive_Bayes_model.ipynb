{
 "cells": [
  {
   "cell_type": "markdown",
   "metadata": {},
   "source": [
    "### Naive Bayes Practise"
   ]
  },
  {
   "cell_type": "markdown",
   "metadata": {},
   "source": [
    "## Irish or Aussie? \n",
    "##### To implement train a model that distinguishes between newspaper headlines from an Austrailian newspaper compared to an Irish newspaper"
   ]
  },
  {
   "cell_type": "markdown",
   "metadata": {},
   "source": [
    "<hr>"
   ]
  },
  {
   "cell_type": "markdown",
   "metadata": {},
   "source": [
    "#### 1. Downlaoding dataset from source"
   ]
  },
  {
   "cell_type": "code",
   "execution_count": 1,
   "metadata": {},
   "outputs": [
    {
     "name": "stdout",
     "output_type": "stream",
     "text": [
      "Beginning file download...\n"
     ]
    },
    {
     "data": {
      "text/plain": [
       "('million-headlines.zip', <http.client.HTTPMessage at 0x1e6d33cb508>)"
      ]
     },
     "execution_count": 1,
     "metadata": {},
     "output_type": "execute_result"
    }
   ],
   "source": [
    "import urllib.request\n",
    "\n",
    "print('Beginning file download...')\n",
    "\n",
    "url = 'https://storage.googleapis.com/kaggle-data-sets/1692/893258/bundle/archive.zip?GoogleAccessId=web-data@kaggle-161607.iam.gserviceaccount.com&Expires=1585170756&Signature=J1IwXsPYMuoLCOsYfbmVo%2Fq1mmpWz1Fx7utvkD4MhwZgvmZMolXHImkLlS0GvbQShD4696vdj4zDySFwgcWzpuRvAJ9ABqBbcgkuvMccihHzHCW4sIP8kF6D%2BoxFYfiz%2Fqcb0Yn85iXAZBDLRsu26kxxNlprEBJEkupvTNg5VUTPy2qyQdv%2FlRoycKfqD2WTElRSSurfTVg1iC02%2F0IXQnjYEidaLtXWt8Grcd%2BMa40aiI7wQCcKYxcz5b9UuFRPyd8%2FNqVNU2dQRgsU7Ot8dkd3SdxRr38LTwafAyMAlQ2WwVLxv8uh2o1L4vR%2FHEvKTtwH2xfxkvxb5l0uxH5fSw%3D%3D&response-content-disposition=attachment%3B+filename%3Dmillion-headlines.zip'\n",
    "urllib.request.urlretrieve(url, 'million-headlines.zip')"
   ]
  },
  {
   "cell_type": "code",
   "execution_count": 2,
   "metadata": {},
   "outputs": [],
   "source": [
    "import zipfile\n",
    "\n",
    "Project_zip = zipfile.ZipFile('million-headlines.zip')\n",
    "Project_zip.extract('abcnews-date-text.csv')\n",
    "Project_zip.close()"
   ]
  },
  {
   "cell_type": "code",
   "execution_count": 3,
   "metadata": {},
   "outputs": [
    {
     "name": "stdout",
     "output_type": "stream",
     "text": [
      "Beginning file download...\n"
     ]
    },
    {
     "data": {
      "text/plain": [
       "('ireland-news-headlines.zip', <http.client.HTTPMessage at 0x1e6d3443348>)"
      ]
     },
     "execution_count": 3,
     "metadata": {},
     "output_type": "execute_result"
    }
   ],
   "source": [
    "import urllib.request\n",
    "\n",
    "print('Beginning file download...')\n",
    "\n",
    "url ='https://storage.googleapis.com/kaggle-data-sets/30661/1002937/bundle/archive.zip?GoogleAccessId=web-data@kaggle-161607.iam.gserviceaccount.com&Expires=1585170628&Signature=SPZ0IwnvY2SIlrgC0oZqnwif7mHQEN%2FFCEW9kGVQKuTfTUb9DwJZlc5i9MYchSAjMbuNe%2FCS%2F7nd%2FeaL2LV6a%2B9rOrrFbIm5ghWYf%2BOa1XgC6Nr%2Bj61ZmITYlvuTPJ9xJR%2B%2BuqeTkAIB%2Fr7JgyUL63Y513DXfWLY2nN3XHQsT%2FXIRAvYpGCayHd2tzjnITdHs%2BnWkn2%2BeIAkcrK%2B4Gruk%2Fl0uwFCOELW0v%2BZjD49DNKjM%2FDbRLFNMZXaWwStfVdz2vDhPcGiLJvvLkilgZIVcBShMIn%2BzjpRUMThv7%2FmSAwKnU0WDACV2D29bkMDSZXrQIoeFGuzVxvT2HImEtpFPA%3D%3D&response-content-disposition=attachment%3B+filename%3Direland-historical-news.zip'\n",
    "urllib.request.urlretrieve(url, 'ireland-news-headlines.zip')"
   ]
  },
  {
   "cell_type": "code",
   "execution_count": 4,
   "metadata": {},
   "outputs": [],
   "source": [
    "import zipfile\n",
    "\n",
    "Project_zip = zipfile.ZipFile('ireland-news-headlines.zip')\n",
    "Project_zip.extract('ireland-news-headlines.csv')\n",
    "Project_zip.close()"
   ]
  },
  {
   "cell_type": "markdown",
   "metadata": {},
   "source": [
    "#### 2. Importing required librarries for project"
   ]
  },
  {
   "cell_type": "code",
   "execution_count": 5,
   "metadata": {},
   "outputs": [],
   "source": [
    "import re\n",
    "import warnings\n",
    "warnings.filterwarnings('ignore')\n",
    "\n",
    "# import nltk\n",
    "# nltk.download('stopwords')\n",
    "from nltk.corpus import stopwords\n",
    "\n",
    "import numpy as np\n",
    "import pandas as pd\n",
    "import matplotlib.pyplot as plt\n",
    "\n",
    "from sklearn.feature_extraction.text import TfidfVectorizer\n",
    "from sklearn.model_selection import train_test_split\n",
    "from sklearn.naive_bayes import GaussianNB, MultinomialNB, BernoulliNB\n",
    "from sklearn.metrics import classification_report, confusion_matrix, accuracy_score"
   ]
  },
  {
   "cell_type": "markdown",
   "metadata": {},
   "source": [
    "### Task #1"
   ]
  },
  {
   "cell_type": "markdown",
   "metadata": {},
   "source": [
    "The Datasets used are Australian News adatset and Irish News dataset"
   ]
  },
  {
   "cell_type": "code",
   "execution_count": 6,
   "metadata": {
    "scrolled": true
   },
   "outputs": [
    {
     "data": {
      "text/html": [
       "<div>\n",
       "<style scoped>\n",
       "    .dataframe tbody tr th:only-of-type {\n",
       "        vertical-align: middle;\n",
       "    }\n",
       "\n",
       "    .dataframe tbody tr th {\n",
       "        vertical-align: top;\n",
       "    }\n",
       "\n",
       "    .dataframe thead th {\n",
       "        text-align: right;\n",
       "    }\n",
       "</style>\n",
       "<table border=\"1\" class=\"dataframe\">\n",
       "  <thead>\n",
       "    <tr style=\"text-align: right;\">\n",
       "      <th></th>\n",
       "      <th>publish_date</th>\n",
       "      <th>headline_text</th>\n",
       "    </tr>\n",
       "  </thead>\n",
       "  <tbody>\n",
       "    <tr>\n",
       "      <td>0</td>\n",
       "      <td>20030219</td>\n",
       "      <td>aba decides against community broadcasting lic...</td>\n",
       "    </tr>\n",
       "    <tr>\n",
       "      <td>1</td>\n",
       "      <td>20030219</td>\n",
       "      <td>act fire witnesses must be aware of defamation</td>\n",
       "    </tr>\n",
       "    <tr>\n",
       "      <td>2</td>\n",
       "      <td>20030219</td>\n",
       "      <td>a g calls for infrastructure protection summit</td>\n",
       "    </tr>\n",
       "    <tr>\n",
       "      <td>3</td>\n",
       "      <td>20030219</td>\n",
       "      <td>air nz staff in aust strike for pay rise</td>\n",
       "    </tr>\n",
       "    <tr>\n",
       "      <td>4</td>\n",
       "      <td>20030219</td>\n",
       "      <td>air nz strike to affect australian travellers</td>\n",
       "    </tr>\n",
       "  </tbody>\n",
       "</table>\n",
       "</div>"
      ],
      "text/plain": [
       "   publish_date                                      headline_text\n",
       "0      20030219  aba decides against community broadcasting lic...\n",
       "1      20030219     act fire witnesses must be aware of defamation\n",
       "2      20030219     a g calls for infrastructure protection summit\n",
       "3      20030219           air nz staff in aust strike for pay rise\n",
       "4      20030219      air nz strike to affect australian travellers"
      ]
     },
     "execution_count": 6,
     "metadata": {},
     "output_type": "execute_result"
    }
   ],
   "source": [
    "aussi_path = 'abcnews-date-text.csv'\n",
    "aussi_all = pd.read_csv(aussi_path)  # 1186018 rows × 2 columns\n",
    "aussi_all.head()"
   ]
  },
  {
   "cell_type": "code",
   "execution_count": 7,
   "metadata": {},
   "outputs": [
    {
     "data": {
      "text/html": [
       "<div>\n",
       "<style scoped>\n",
       "    .dataframe tbody tr th:only-of-type {\n",
       "        vertical-align: middle;\n",
       "    }\n",
       "\n",
       "    .dataframe tbody tr th {\n",
       "        vertical-align: top;\n",
       "    }\n",
       "\n",
       "    .dataframe thead th {\n",
       "        text-align: right;\n",
       "    }\n",
       "</style>\n",
       "<table border=\"1\" class=\"dataframe\">\n",
       "  <thead>\n",
       "    <tr style=\"text-align: right;\">\n",
       "      <th></th>\n",
       "      <th>publish_date</th>\n",
       "      <th>headline_category</th>\n",
       "      <th>headline_text</th>\n",
       "    </tr>\n",
       "  </thead>\n",
       "  <tbody>\n",
       "    <tr>\n",
       "      <td>0</td>\n",
       "      <td>19960102</td>\n",
       "      <td>news</td>\n",
       "      <td>UUP sees possibility of voting Major out</td>\n",
       "    </tr>\n",
       "    <tr>\n",
       "      <td>1</td>\n",
       "      <td>19960102</td>\n",
       "      <td>news</td>\n",
       "      <td>Pubs targeted as curbs on smoking are extended</td>\n",
       "    </tr>\n",
       "    <tr>\n",
       "      <td>2</td>\n",
       "      <td>19960102</td>\n",
       "      <td>news</td>\n",
       "      <td>Papers reveal secret links with O'Neill cabinet</td>\n",
       "    </tr>\n",
       "    <tr>\n",
       "      <td>3</td>\n",
       "      <td>19960102</td>\n",
       "      <td>news</td>\n",
       "      <td>Domestic chaos as Italy takes EU presidency</td>\n",
       "    </tr>\n",
       "    <tr>\n",
       "      <td>4</td>\n",
       "      <td>19960102</td>\n",
       "      <td>news</td>\n",
       "      <td>Learning about the star to which we owe life</td>\n",
       "    </tr>\n",
       "  </tbody>\n",
       "</table>\n",
       "</div>"
      ],
      "text/plain": [
       "   publish_date headline_category  \\\n",
       "0      19960102              news   \n",
       "1      19960102              news   \n",
       "2      19960102              news   \n",
       "3      19960102              news   \n",
       "4      19960102              news   \n",
       "\n",
       "                                     headline_text  \n",
       "0         UUP sees possibility of voting Major out  \n",
       "1   Pubs targeted as curbs on smoking are extended  \n",
       "2  Papers reveal secret links with O'Neill cabinet  \n",
       "3      Domestic chaos as Italy takes EU presidency  \n",
       "4     Learning about the star to which we owe life  "
      ]
     },
     "execution_count": 7,
     "metadata": {},
     "output_type": "execute_result"
    }
   ],
   "source": [
    "irish_path = 'ireland-news-headlines.csv'\n",
    "irish_all = pd.read_csv(irish_path)  # 1484340 rows × 3 columns\n",
    "irish_all.head()"
   ]
  },
  {
   "cell_type": "code",
   "execution_count": 8,
   "metadata": {},
   "outputs": [],
   "source": [
    "# use small portion to have test\n",
    "aussi = aussi_all[:50000]\n",
    "irish = irish_all[:50000]"
   ]
  },
  {
   "cell_type": "markdown",
   "metadata": {},
   "source": [
    "### Task #2"
   ]
  },
  {
   "cell_type": "markdown",
   "metadata": {},
   "source": [
    "<u>Process the downloaded <code>csv</code> files in python.</u>\n",
    "##### Dropping unwanted columns from both datasets"
   ]
  },
  {
   "cell_type": "code",
   "execution_count": 9,
   "metadata": {},
   "outputs": [],
   "source": [
    "# remove useless columns\n",
    "aussi.drop('publish_date', axis=1, inplace=True)\n",
    "irish.drop(['publish_date', 'headline_category'], axis=1, inplace=True)"
   ]
  },
  {
   "cell_type": "code",
   "execution_count": 10,
   "metadata": {},
   "outputs": [],
   "source": [
    "# add label column: 0 means aussi, 1 means irish\n",
    "aussi['label'] = [0] * aussi.shape[0]\n",
    "irish['label'] = [1] * irish.shape[0]"
   ]
  },
  {
   "cell_type": "code",
   "execution_count": 11,
   "metadata": {},
   "outputs": [
    {
     "data": {
      "text/html": [
       "<div>\n",
       "<style scoped>\n",
       "    .dataframe tbody tr th:only-of-type {\n",
       "        vertical-align: middle;\n",
       "    }\n",
       "\n",
       "    .dataframe tbody tr th {\n",
       "        vertical-align: top;\n",
       "    }\n",
       "\n",
       "    .dataframe thead th {\n",
       "        text-align: right;\n",
       "    }\n",
       "</style>\n",
       "<table border=\"1\" class=\"dataframe\">\n",
       "  <thead>\n",
       "    <tr style=\"text-align: right;\">\n",
       "      <th></th>\n",
       "      <th>headline_text</th>\n",
       "      <th>label</th>\n",
       "    </tr>\n",
       "  </thead>\n",
       "  <tbody>\n",
       "    <tr>\n",
       "      <td>0</td>\n",
       "      <td>aba decides against community broadcasting lic...</td>\n",
       "      <td>0</td>\n",
       "    </tr>\n",
       "    <tr>\n",
       "      <td>1</td>\n",
       "      <td>act fire witnesses must be aware of defamation</td>\n",
       "      <td>0</td>\n",
       "    </tr>\n",
       "    <tr>\n",
       "      <td>2</td>\n",
       "      <td>a g calls for infrastructure protection summit</td>\n",
       "      <td>0</td>\n",
       "    </tr>\n",
       "    <tr>\n",
       "      <td>3</td>\n",
       "      <td>air nz staff in aust strike for pay rise</td>\n",
       "      <td>0</td>\n",
       "    </tr>\n",
       "    <tr>\n",
       "      <td>4</td>\n",
       "      <td>air nz strike to affect australian travellers</td>\n",
       "      <td>0</td>\n",
       "    </tr>\n",
       "  </tbody>\n",
       "</table>\n",
       "</div>"
      ],
      "text/plain": [
       "                                       headline_text  label\n",
       "0  aba decides against community broadcasting lic...      0\n",
       "1     act fire witnesses must be aware of defamation      0\n",
       "2     a g calls for infrastructure protection summit      0\n",
       "3           air nz staff in aust strike for pay rise      0\n",
       "4      air nz strike to affect australian travellers      0"
      ]
     },
     "execution_count": 11,
     "metadata": {},
     "output_type": "execute_result"
    }
   ],
   "source": [
    "# concat two df into one\n",
    "df = pd.concat([aussi, irish], ignore_index=True)\n",
    "df.head()"
   ]
  },
  {
   "cell_type": "code",
   "execution_count": 12,
   "metadata": {},
   "outputs": [
    {
     "data": {
      "text/html": [
       "<div>\n",
       "<style scoped>\n",
       "    .dataframe tbody tr th:only-of-type {\n",
       "        vertical-align: middle;\n",
       "    }\n",
       "\n",
       "    .dataframe tbody tr th {\n",
       "        vertical-align: top;\n",
       "    }\n",
       "\n",
       "    .dataframe thead th {\n",
       "        text-align: right;\n",
       "    }\n",
       "</style>\n",
       "<table border=\"1\" class=\"dataframe\">\n",
       "  <thead>\n",
       "    <tr style=\"text-align: right;\">\n",
       "      <th></th>\n",
       "      <th>headline_text</th>\n",
       "      <th>label</th>\n",
       "    </tr>\n",
       "  </thead>\n",
       "  <tbody>\n",
       "    <tr>\n",
       "      <td>0</td>\n",
       "      <td>Six EU states insist on higher compensation fo...</td>\n",
       "      <td>1</td>\n",
       "    </tr>\n",
       "    <tr>\n",
       "      <td>1</td>\n",
       "      <td>nine dead 60 injured as bomb rips through bombay</td>\n",
       "      <td>0</td>\n",
       "    </tr>\n",
       "    <tr>\n",
       "      <td>2</td>\n",
       "      <td>industrial action not affecting patient care m...</td>\n",
       "      <td>0</td>\n",
       "    </tr>\n",
       "    <tr>\n",
       "      <td>3</td>\n",
       "      <td>oil research given 61m budget boost</td>\n",
       "      <td>0</td>\n",
       "    </tr>\n",
       "    <tr>\n",
       "      <td>4</td>\n",
       "      <td>china to build worlds largest shipyard</td>\n",
       "      <td>0</td>\n",
       "    </tr>\n",
       "  </tbody>\n",
       "</table>\n",
       "</div>"
      ],
      "text/plain": [
       "                                       headline_text  label\n",
       "0  Six EU states insist on higher compensation fo...      1\n",
       "1   nine dead 60 injured as bomb rips through bombay      0\n",
       "2  industrial action not affecting patient care m...      0\n",
       "3                oil research given 61m budget boost      0\n",
       "4             china to build worlds largest shipyard      0"
      ]
     },
     "execution_count": 12,
     "metadata": {},
     "output_type": "execute_result"
    }
   ],
   "source": [
    "# shuffle all the rows\n",
    "df = df.sample(frac=1).reset_index(drop=True)\n",
    "df.head()"
   ]
  },
  {
   "cell_type": "markdown",
   "metadata": {},
   "source": [
    "### Task #3"
   ]
  },
  {
   "cell_type": "markdown",
   "metadata": {},
   "source": [
    "<u>Divide your data into a training set and testing set.</u>\n",
    "\n",
    "No peaking at the test set here on out!\n",
    "\n",
    "Perhaps even divide your training set into a dev-test set."
   ]
  },
  {
   "cell_type": "code",
   "execution_count": 13,
   "metadata": {},
   "outputs": [
    {
     "name": "stdout",
     "output_type": "stream",
     "text": [
      "(100000, 1) (100000, 1)\n"
     ]
    }
   ],
   "source": [
    "# get text_feature, label\n",
    "X, y = df[['headline_text']], df[['label']]\n",
    "print(X.shape, y.shape)"
   ]
  },
  {
   "cell_type": "code",
   "execution_count": 14,
   "metadata": {},
   "outputs": [
    {
     "name": "stdout",
     "output_type": "stream",
     "text": [
      "(80000, 1) (20000, 1) (80000, 1) (20000, 1)\n"
     ]
    }
   ],
   "source": [
    "# train : valid : test = 60 % : 20 % : 20 %\n",
    "# split test from train\n",
    "X_train, X_test, y_train, y_test = train_test_split(X, y, test_size=0.2, random_state=0)\n",
    "print(X_train.shape, X_test.shape, y_train.shape, y_test.shape)"
   ]
  },
  {
   "cell_type": "code",
   "execution_count": 15,
   "metadata": {},
   "outputs": [
    {
     "name": "stdout",
     "output_type": "stream",
     "text": [
      "(60000, 1) (20000, 1) (60000, 1) (20000, 1)\n"
     ]
    }
   ],
   "source": [
    "# split valid from train\n",
    "X_train, X_valid, y_train, y_valid = train_test_split(X_train, y_train, test_size=0.25, random_state=0)\n",
    "print(X_train.shape, X_valid.shape, y_train.shape, y_valid.shape)"
   ]
  },
  {
   "cell_type": "markdown",
   "metadata": {},
   "source": [
    "### Task #4"
   ]
  },
  {
   "cell_type": "markdown",
   "metadata": {},
   "source": [
    "<u>Learn a naive bayes classifier on the training set.</u>\n",
    "\n",
    "(For this step you may find it easier to deviate from the Names corpus classifier example, and instead manually compute probabilities following the intuition presented in the \"China\"/\"Japan\" J&M example.)\n",
    "\n",
    "All we really need here are: (1) prior probabilities and (2) conditional probabilities."
   ]
  },
  {
   "cell_type": "code",
   "execution_count": 16,
   "metadata": {},
   "outputs": [],
   "source": [
    "def preprocessing(texts):\n",
    "    cleaned_texts = []\n",
    "    for text in texts:\n",
    "        text = re.sub(r'\\W', ' ', str(text))          # remove all special characters\n",
    "        text = re.sub(r'\\s+[a-zA-Z]\\s+', ' ', text)   # remove all single characters\n",
    "        text = re.sub(r'\\^[a-zA-Z]\\s+', ' ', text)    # remove single characters from the start\n",
    "        text = re.sub(r'\\s+', ' ', text, flags=re.I)  # substituting multiple spaces with single space\n",
    "        text = re.sub(r'^b\\s+', '', text)             # removing prefixed 'b'\n",
    "        text = text.lower()                           # converting to lowercase\n",
    "        cleaned_texts.append(text)\n",
    "    return cleaned_texts"
   ]
  },
  {
   "cell_type": "code",
   "execution_count": 17,
   "metadata": {},
   "outputs": [],
   "source": [
    "# clean all texts\n",
    "X_train_cleaned = preprocessing(X_train['headline_text'].values)\n",
    "X_valid_cleaned = preprocessing(X_valid['headline_text'].values)\n",
    "X_test_cleaned =  preprocessing(X_test['headline_text'].values)"
   ]
  },
  {
   "cell_type": "code",
   "execution_count": 18,
   "metadata": {},
   "outputs": [
    {
     "name": "stdout",
     "output_type": "stream",
     "text": [
      "(60000, 5000) (20000, 5000) (20000, 5000)\n"
     ]
    }
   ],
   "source": [
    "# vectorize all texts\n",
    "tfidf = TfidfVectorizer(max_features=5000,\n",
    "                        min_df=5,\n",
    "                        max_df=0.5,\n",
    "                        stop_words=stopwords.words('english'))\n",
    "X_train_cleaned_vectors = tfidf.fit_transform(X_train_cleaned).toarray()\n",
    "X_valid_cleaned_vectors = tfidf.transform(X_valid_cleaned).toarray()\n",
    "X_test_cleaned_vectors =  tfidf.transform(X_test_cleaned).toarray()\n",
    "print(X_train_cleaned_vectors.shape, X_valid_cleaned_vectors.shape, X_test_cleaned_vectors.shape)"
   ]
  },
  {
   "cell_type": "code",
   "execution_count": 19,
   "metadata": {},
   "outputs": [
    {
     "name": "stdout",
     "output_type": "stream",
     "text": [
      "0.8585833333333334 0.8322 0.8391\n"
     ]
    }
   ],
   "source": [
    "# train the model, get scores in train / valid / test\n",
    "# clf = GaussianNB()\n",
    "# clf = MultinomialNB()\n",
    "clf = BernoulliNB()\n",
    "clf.fit(X_train_cleaned_vectors, y_train)  # use the same TF-IDF output, BernoulliNB > GaussianNB > MultinomialNB\n",
    "\n",
    "train_score = clf.score(X_train_cleaned_vectors, y_train)\n",
    "valid_score = clf.score(X_valid_cleaned_vectors, y_valid)\n",
    "test_score =  clf.score(X_test_cleaned_vectors, y_test)\n",
    "\n",
    "print(train_score, valid_score, test_score)  # this cell runs around 8 minutes"
   ]
  },
  {
   "cell_type": "markdown",
   "metadata": {},
   "source": [
    "### Task #5"
   ]
  },
  {
   "cell_type": "markdown",
   "metadata": {},
   "source": [
    "<u>Iterate and refine the model using a dev-test set.</u>\n",
    "                        \n",
    "Let's try to make our model better. What instances is your model misclassifying? Report lessons learned either here, or at the bottom of this notebook. "
   ]
  },
  {
   "cell_type": "code",
   "execution_count": 20,
   "metadata": {},
   "outputs": [],
   "source": [
    "def plot_confusion_matrix(grid, title='Confusion matrix', cmap=plt.cm.BuPu):\n",
    "    plt.figure(figsize=(6, 4))\n",
    "    plt.imshow(grid, interpolation='nearest', cmap=cmap)\n",
    "    plt.title(title)\n",
    "    plt.colorbar()\n",
    "    tick_marks = np.arange(2)\n",
    "    plt.xticks(tick_marks, [\"Aussi\", \"Irish\"])  # 0 means Aussi, 1 means Irish\n",
    "    plt.yticks(tick_marks, [\"Aussi\", \"Irish\"])  # 0 means Aussi, 1 emans Irish\n",
    "    plt.tight_layout()\n",
    "    plt.ylabel('True label')\n",
    "    plt.xlabel('Predicted label (0 means Aussi, 1 means Irish)')\n",
    "    plt.show()\n",
    "\n",
    "\n",
    "def plot_categorical(matrix, title):\n",
    "    values = list(matrix.flat)  # matrix = [ [TAPA, TAPI], [TIPA, TIPI] ]\n",
    "    locations = [1, 2, 3, 4]\n",
    "    names = ['TrueA-PredA', 'TrueA-PredI', 'TrueI-PredA', 'TrueI-PredI']\n",
    "\n",
    "    plt.figure(figsize=(6, 4))\n",
    "    plt.bar(locations, values, width=0.6)\n",
    "    plt.xticks(locations, names)\n",
    "    plt.suptitle(title)\n",
    "    plt.grid(linestyle='--')\n",
    "    plt.show()"
   ]
  },
  {
   "cell_type": "code",
   "execution_count": 21,
   "metadata": {},
   "outputs": [
    {
     "name": "stdout",
     "output_type": "stream",
     "text": [
      "              precision    recall  f1-score   support\n",
      "\n",
      "           0       0.84      0.81      0.83     10016\n",
      "           1       0.82      0.85      0.83      9984\n",
      "\n",
      "    accuracy                           0.83     20000\n",
      "   macro avg       0.83      0.83      0.83     20000\n",
      "weighted avg       0.83      0.83      0.83     20000\n",
      "\n",
      "----------------------------------------------------------------------------------------\n",
      "accuracy score is: 0.832200\n",
      "----------------------------------------------------------------------------------------\n",
      "[[8162 1854]\n",
      " [1502 8482]]\n"
     ]
    },
    {
     "data": {
      "image/png": "[encoded data removed]",
      "text/plain": [
       "<Figure size 432x288 with 2 Axes>"
      ]
     },
     "metadata": {
      "needs_background": "light"
     },
     "output_type": "display_data"
    },
    {
     "data": {
      "image/png": "[encoded data removed]",
      "text/plain": [
       "<Figure size 432x288 with 1 Axes>"
      ]
     },
     "metadata": {
      "needs_background": "light"
     },
     "output_type": "display_data"
    }
   ],
   "source": [
    "# output VALID's classification report / accuracy score / confusion matrix\n",
    "y_valid_pred = clf.predict(X_valid_cleaned_vectors)\n",
    "print(classification_report(y_valid, y_valid_pred))\n",
    "print('-' * 88)\n",
    "print('accuracy score is: %f' % accuracy_score(y_valid, y_valid_pred))\n",
    "print('-' * 88)\n",
    "valid_matrix = confusion_matrix(y_valid, y_valid_pred)\n",
    "print(valid_matrix)\n",
    "plot_confusion_matrix(valid_matrix, title='Confusion matrix', cmap=plt.cm.BuPu)\n",
    "plot_categorical(valid_matrix, title='Categorical Plotting')"
   ]
  },
  {
   "cell_type": "markdown",
   "metadata": {},
   "source": [
    "### Task #6"
   ]
  },
  {
   "cell_type": "markdown",
   "metadata": {},
   "source": [
    "<u>Evaluate your model on the held out test set.</u>\n",
    "                        \n",
    "Which metric is most appropriate? Accuracy?\n",
    "\n",
    "Is there anything else that could be useful to calculate? \n",
    "\n",
    "What is the classifier's baseline?"
   ]
  },
  {
   "cell_type": "code",
   "execution_count": 22,
   "metadata": {},
   "outputs": [
    {
     "name": "stdout",
     "output_type": "stream",
     "text": [
      "              precision    recall  f1-score   support\n",
      "\n",
      "           0       0.85      0.82      0.84     10023\n",
      "           1       0.83      0.85      0.84      9977\n",
      "\n",
      "    accuracy                           0.84     20000\n",
      "   macro avg       0.84      0.84      0.84     20000\n",
      "weighted avg       0.84      0.84      0.84     20000\n",
      "\n",
      "----------------------------------------------------------------------------------------\n",
      "accuracy score is: 0.839100\n",
      "----------------------------------------------------------------------------------------\n",
      "[[8264 1759]\n",
      " [1459 8518]]\n"
     ]
    },
    {
     "data": {
      "image/png": "[encoded data removed]",
      "text/plain": [
       "<Figure size 432x288 with 2 Axes>"
      ]
     },
     "metadata": {
      "needs_background": "light"
     },
     "output_type": "display_data"
    },
    {
     "data": {
      "image/png": "[encoded data removed]",
      "text/plain": [
       "<Figure size 432x288 with 1 Axes>"
      ]
     },
     "metadata": {
      "needs_background": "light"
     },
     "output_type": "display_data"
    }
   ],
   "source": [
    "# output TEST's classification report / accuracy score / confusion matrix\n",
    "y_test_pred = clf.predict(X_test_cleaned_vectors)\n",
    "print(classification_report(y_test, y_test_pred))\n",
    "print('-' * 88)\n",
    "print('accuracy score is: %f' % accuracy_score(y_test, y_test_pred))\n",
    "print('-' * 88)\n",
    "test_matrix = confusion_matrix(y_test, y_test_pred)\n",
    "print(test_matrix)\n",
    "plot_confusion_matrix(test_matrix, title='Confusion matrix', cmap=plt.cm.BuPu)\n",
    "plot_categorical(test_matrix, title='Categorical Plotting')"
   ]
  },
  {
   "cell_type": "markdown",
   "metadata": {},
   "source": [
    "## Observations:-"
   ]
  },
  {
   "cell_type": "markdown",
   "metadata": {},
   "source": [
    "After considerable times of trials, here is my report:\n",
    "1. Among 3 Naive Bayes modules, when feeding with exactly same samples, __BernoulliNB > GaussianNB > MultinomialNB.__ \n",
    "It might because the __prior distribution__ for the datasets used here, are __closer to Bernoulli__ distribution.\n",
    "\n",
    "\n",
    "2. Besides, I also find that:\n",
    "After model is fixed, the __primary factor__ affecting model performance lies in \"__max_features__\" and \"__min_df__\" parameters in TfidfVectorizer. Basically, the __bigger for max_features__, the __higher accuracy score__. Also, the __smaller for min_df__, the __higher accuracy score__.\n",
    "\n",
    "\n",
    "3. However, the __score-increasing-magnitude does NOT always keep the same pace of max_feature-increasing-magnitude__, which hints that there might be some __risk of over-fitting__ when max_feature goes too large. Therefore, we should be cautious when tuning max_features and min_df. "
   ]
  },
  {
   "cell_type": "code",
   "execution_count": null,
   "metadata": {},
   "outputs": [],
   "source": []
  }
 ],
 "metadata": {
  "kernelspec": {
   "display_name": "Python 3",
   "language": "python",
   "name": "python3"
  },
  "language_info": {
   "codemirror_mode": {
    "name": "ipython",
    "version": 3
   },
   "file_extension": ".py",
   "mimetype": "text/x-python",
   "name": "python",
   "nbconvert_exporter": "python",
   "pygments_lexer": "ipython3",
   "version": "3.7.4"
  },
  "toc": {
   "base_numbering": 1,
   "nav_menu": {},
   "number_sections": true,
   "sideBar": true,
   "skip_h1_title": false,
   "title_cell": "Table of Contents",
   "title_sidebar": "Contents",
   "toc_cell": false,
   "toc_position": {},
   "toc_section_display": true,
   "toc_window_display": false
  }
 },
 "nbformat": 4,
 "nbformat_minor": 2
}
